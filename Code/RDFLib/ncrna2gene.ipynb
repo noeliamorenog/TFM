{
 "cells": [
  {
   "cell_type": "code",
   "execution_count": 10,
   "metadata": {},
   "outputs": [
    {
     "data": {
      "text/plain": [
       "<Graph identifier=Nafea39ef5c1744cab6ab78ad75a0d760 (<class 'rdflib.graph.Graph'>)>"
      ]
     },
     "execution_count": 10,
     "metadata": {},
     "output_type": "execute_result"
    }
   ],
   "source": [
    "import rdflib\n",
    "import csv\n",
    "import time\n",
    "\n",
    "ruta_csv = \"../bbdd/datos_mircancer\" \n",
    "ncrna2gene = rdflib.Graph()\n",
    "ncrna2gene.parse(\"ncrna2gene.txt\", format=\"turtle\")"
   ]
  },
  {
   "cell_type": "code",
   "execution_count": 11,
   "metadata": {},
   "outputs": [],
   "source": [
    "start = time.time()\n",
    "\n",
    "# enlazar prefijos a namespaces\n",
    "ncrna2gene.bind(\"rdf\", rdflib.URIRef(\"http://www.w3.org/1999/02/22-rdf-syntax-ns#\"))\n",
    "ncrna2gene.bind(\"owl\", rdflib.URIRef(\"http://www.w3.org/2002/07/owl#\"))\n",
    "ncrna2gene.bind(\"rdfs\", rdflib.URIRef(\"http://www.w3.org/2000/01/rdf-schema#\"))\n",
    "ncrna2gene.bind(\"skos\", rdflib.URIRef(\"http://www.w3.org/2004/02/skos/core#\"))\n",
    "ncrna2gene.bind(\"dcterms\", rdflib.URIRef(\"http://purl.org/dc/terms/\"))\n",
    "ncrna2gene.bind(\"obo\", rdflib.URIRef(\"http://purl.obolibrary.org/obo/\"))\n",
    "ncrna2gene.bind(\"sio\", rdflib.URIRef(\"http://semanticscience.org/resource/\"))\n",
    "ncrna2gene.bind(\"faldo\", rdflib.URIRef(\"http://biohackathon.org/resource/faldo#\"))\n",
    "ncrna2gene.bind(\"ncrna2genebg\", rdflib.URIRef(\"http://rdf.biogateway.eu/ncrna2gene/9606/\"))\n",
    "ncrna2gene.bind(\"genebg\", rdflib.URIRef(\"http://rdf.biogateway.eu/gene/9606/\"))\n",
    "ncrna2gene.bind(\"ncrnabg\", rdflib.URIRef(\"http://rdf.biogateway.eu/ncrna/9606/\"))\n",
    "ncrna2gene.bind(\"ncrnabg\", rdflib.URIRef(\"http://rdf.biogateway.eu/ncrna2gene/9606/\"))\n",
    "ncrna2gene.bind(\"assembly\", rdflib.URIRef(\"https://www.ncbi.nlm.nih.gov/assembly/\"))\n",
    "ncrna2gene.bind(\"schema\", rdflib.URIRef(\"http://schema.org/\"))\n",
    "ncrna2gene.bind(\"bao\", rdflib.URIRef(\"http://www.bioassayontology.org/bao#\"))\n",
    "ncrna2gene.bind(\"ncbi\", rdflib.URIRef(\"https://www.ncbi.nlm.nih.gov/\"))\n",
    "ncrna2gene.bind(\"id\", rdflib.URIRef(\"http://identifiers.org/\"))\n",
    "ncrna2gene.bind(\"biolink\", rdflib.URIRef(\"https://wx3id.org/biolink/vocab/\"))\n",
    "\n",
    "# definir un diccionario con los ID de las bases de datos que se usen\n",
    "database_ids = {\n",
    "    \"RefSeq\": \"http://purl.obolibrary.org/obo/NCIT_C45335\",  \n",
    "    \"Ensembl\": \"http://purl.obolibrary.org/obo/NCIT_C45763\",\n",
    "    \"miRBase\": \"http://purl.obolibrary.org/obo/MI_2358\",\n",
    "    \"miRCancer\": \"http://mircancer.ecu.edu/\",\n",
    "    \"LNCipedia\": \"https://lncipedia.org/download\"\n",
    "}\n",
    "\n",
    "\n",
    "with open(ruta_csv, newline='', encoding='utf-8') as csvfile:\n",
    "    reader = csv.DictReader(csvfile)\n",
    "    for row in reader:\n",
    "        if row['Gene_ID'] in [None, '', 'NA']:\n",
    "            continue\n",
    "        # extraer ID de gen y transcrito si viene en formato de URI\n",
    "        gene_id = row['Gene_ID']\n",
    "        ncrna_id = row['ncRNA_ID'].split('/')[-1]\n",
    "\n",
    "        # indicar la base de datos de la que se obtiene la información\n",
    "        data_source = \"miRCancer\"\n",
    "\n",
    "        ncRNAgene = rdflib.URIRef(f\"http://rdf.biogateway.eu/ncrnagene/9606/{gene_id}\")\n",
    "        ncRNA = rdflib.URIRef(f\"http://rdf.biogateway.eu/ncrna/9606/{ncrna_id}\")\n",
    "        ncrna2gen = rdflib.URIRef(f\"http://rdf.biogateway.eu/ncrna2gene/bgw!{ncrna_id}--hgncsymbol!9606/{gene_id}\")\n",
    "\n",
    "        ncRNAgene_source = rdflib.URIRef(f\"http://rdf.biogateway.eu/ncrnagene/9606/{gene_id}#{data_source}\")\n",
    "        ncRNA_source = rdflib.URIRef(f\"http://rdf.biogateway.eu/ncrna/9606/{ncrna_id}#{data_source}\")\n",
    "        ncrna2gene_source = rdflib.URIRef(f\"http://rdf.biogateway.eu/ncrna2gene/bgw!{ncrna_id}--hgncsymbol!9606/{gene_id}#{data_source}\")\n",
    "        database_uri = database_ids.get(data_source, \"http://purl.obolibrary.org/obo/NCIT_C15426\")\n",
    "\n",
    "        ncrna2gene.add((ncrna2gen, rdflib.RDF.type, rdflib.OWL.Class))\n",
    "        ncrna2gene.add((ncrna2gene_source, rdflib.URIRef(\"http://www.w3.org/1999/02/22-rdf-syntax-ns#type\"), ncrna2gen))\n",
    "        ncrna2gene.add((ncrna2gen, rdflib.RDFS.subClassOf, rdflib.URIRef(\"http://www.w3.org/1999/02/22-rdf-syntax-ns#Statement\")))\n",
    "        ncrna2gene.add((ncrna2gen, rdflib.RDF.predicate, rdflib.URIRef(\"http://semanticscience.org/resource/SIO_010080\")))\n",
    "        ncrna2gene.add((ncrna2gen, rdflib.namespace.SKOS.prefLabel, rdflib.Literal(f\"bgw!{ncrna_id}--hgncsymbol!9606/{gene_id}\")))\n",
    "        ncrna2gene.add((ncrna2gene_source, rdflib.namespace.SKOS.prefLabel, rdflib.Literal(f\"bgw!{ncrna_id}--hgncsymbol!9606/{gene_id} according to {data_source}.\")))\n",
    "        ncrna2gene.add((ncrna2gen, rdflib.namespace.SKOS.definition, rdflib.Literal(f\"Non-coding RNA {ncrna_id} encoded by gene {gene_id}.\")))\n",
    "        ncrna2gene.add((ncrna2gene_source, rdflib.namespace.SKOS.definition, rdflib.Literal(f\"Non-coding RNA {ncrna_id} encoded by gene {gene_id} according to {data_source}.\")))\n",
    "        ncrna2gene.add((ncrna2gen, rdflib.RDF.object, rdflib.URIRef(f\"http://rdf.biogateway.eu/gene/9606/{gene_id}\")))\n",
    "        ncrna2gene.add((ncrna2gen, rdflib.RDF.subject, rdflib.URIRef(f\"http://rdf.biogateway.eu/ncrna/9606/{ncrna_id}\")))\n",
    "        ncrna2gene.add((ncrna2gene_source, rdflib.URIRef(\"http://schema.org/evidenceOrigin\"), rdflib.URIRef(database_uri)))\n",
    "        ncrna2gene.add((ncrna2gene_source, rdflib.URIRef(\"http://semanticscience.org/resource/SIO_000253\"), rdflib.URIRef(database_uri)))\n",
    "\n",
    "output_name = f'ncrna2gene_{data_source.lower()}.rdf'\n",
    "ncrna2gene.serialize(destination=output_name, format='turtle')\n",
    "\n",
    "end = time.time()\n"
   ]
  },
  {
   "cell_type": "code",
   "execution_count": 5,
   "metadata": {},
   "outputs": [
    {
     "name": "stdout",
     "output_type": "stream",
     "text": [
      "El fichero 'ncrna2gene_ensembl.rdf' ha sido creado en 0.83 minutos.\n"
     ]
    }
   ],
   "source": [
    "total_time = (end - start) / 60\n",
    "print(f\"El fichero '{output_name}' ha sido creado en {total_time:.2f} minutos.\")"
   ]
  }
 ],
 "metadata": {
  "kernelspec": {
   "display_name": "base",
   "language": "python",
   "name": "python3"
  },
  "language_info": {
   "codemirror_mode": {
    "name": "ipython",
    "version": 3
   },
   "file_extension": ".py",
   "mimetype": "text/x-python",
   "name": "python",
   "nbconvert_exporter": "python",
   "pygments_lexer": "ipython3",
   "version": "3.10.10"
  },
  "orig_nbformat": 4
 },
 "nbformat": 4,
 "nbformat_minor": 2
}
