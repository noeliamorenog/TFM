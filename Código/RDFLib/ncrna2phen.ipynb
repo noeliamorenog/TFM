{
 "cells": [
  {
   "cell_type": "code",
   "execution_count": 29,
   "metadata": {},
   "outputs": [
    {
     "data": {
      "text/plain": [
       "<Graph identifier=N15b876b5e1dd4f24a499f7a64e8ac5ac (<class 'rdflib.graph.Graph'>)>"
      ]
     },
     "execution_count": 29,
     "metadata": {},
     "output_type": "execute_result"
    }
   ],
   "source": [
    "import rdflib\n",
    "import csv\n",
    "import pandas as pd\n",
    "\n",
    "ruta_csv = \"../bbdd/datos_mircancer\" \n",
    "ncrna2phen = rdflib.Graph()\n",
    "ncrna2phen.parse(\"ncrna2phengraphT.txt\", format=\"turtle\")"
   ]
  },
  {
   "cell_type": "code",
   "execution_count": 30,
   "metadata": {},
   "outputs": [
    {
     "data": {
      "text/plain": [
       "<Graph identifier=N15b876b5e1dd4f24a499f7a64e8ac5ac (<class 'rdflib.graph.Graph'>)>"
      ]
     },
     "execution_count": 30,
     "metadata": {},
     "output_type": "execute_result"
    }
   ],
   "source": [
    "ncrna2phen.bind(\"rdf\", rdflib.URIRef(\"http://www.w3.org/1999/02/22-rdf-syntax-ns#\"))\n",
    "ncrna2phen.bind(\"owl\", rdflib.URIRef(\"http://www.w3.org/2002/07/owl#\"))\n",
    "ncrna2phen.bind(\"rdfs\", rdflib.URIRef(\"http://www.w3.org/2000/01/rdf-schema#\"))\n",
    "ncrna2phen.bind(\"skos\", rdflib.URIRef(\"http://www.w3.org/2004/02/skos/core#\"))\n",
    "ncrna2phen.bind(\"dcterms\", rdflib.URIRef(\"http://purl.org/dc/terms/\"))\n",
    "ncrna2phen.bind(\"obo\", rdflib.URIRef(\"http://purl.obolibrary.org/obo/\"))\n",
    "ncrna2phen.bind(\"sio\", rdflib.URIRef(\"http://semanticscience.org/resource/\"))\n",
    "ncrna2phen.bind(\"faldo\", rdflib.URIRef(\"http://biohackathon.org/resource/faldo#\"))\n",
    "ncrna2phen.bind(\"ncrna2phenbg\", rdflib.URIRef(\"http://rdf.biogateway.eu/ncrna2gene/9606/\"))\n",
    "ncrna2phen.bind(\"genebg\", rdflib.URIRef(\"http://rdf.biogateway.eu/gene/9606/\"))\n",
    "ncrna2phen.bind(\"ncrnabg\", rdflib.URIRef(\"http://rdf.biogateway.eu/ncrna/9606/\"))\n",
    "ncrna2phen.bind(\"ncrnabg\", rdflib.URIRef(\"http://rdf.biogateway.eu/ncrna2gene/9606/\"))\n",
    "ncrna2phen.bind(\"assembly\", rdflib.URIRef(\"https://www.ncbi.nlm.nih.gov/assembly/\"))\n",
    "ncrna2phen.bind(\"schema\", rdflib.URIRef(\"http://schema.org/\"))\n",
    "ncrna2phen.bind(\"bao\", rdflib.URIRef(\"http://www.bioassayontology.org/bao#\"))\n",
    "ncrna2phen.bind(\"ncbi\", rdflib.URIRef(\"https://www.ncbi.nlm.nih.gov/\"))\n",
    "ncrna2phen.bind(\"id\", rdflib.URIRef(\"http://identifiers.org/\"))\n",
    "ncrna2phen.bind(\"biolink\", rdflib.URIRef(\"https://wx3id.org/biolink/vocab/\"))\n",
    "ncrna2phen.bind(\"omim\", rdflib.URIRef(\"http://purl.bioontology.org/ontology/OMIM/\"))\n",
    "\n",
    "\n",
    "database_ids = {\n",
    "    \"RefSeq\": \"http://purl.obolibrary.org/obo/NCIT_C45335\",  \n",
    "    \"Ensembl\": \"http://purl.obolibrary.org/obo/NCIT_C45763\",\n",
    "    \"miRBase\": \"http://purl.obolibrary.org/obo/MI_2358\",\n",
    "    \"miRCancer\": \"http://mircancer.ecu.edu/\",\n",
    "    \"LNCipedia\": \"https://lncipedia.org/download\"\n",
    "}\n",
    "\n",
    "with open(ruta_csv, newline='', encoding='utf-8') as csvfile:\n",
    "    reader = csv.DictReader(csvfile)\n",
    "    for row in reader:\n",
    "\n",
    "        # extraer ID de gen y transcrito si viene en formato de URI\n",
    "        gene_id = row['Gene_ID'].split('/')[-1]  \n",
    "        transcript_id = row['ncRNA_ID'].split('/')[-1]  \n",
    "\n",
    "        # indicar la base de datos de la que se obtiene la información\n",
    "        data_source = \"miRCancer\"\n",
    "\n",
    "        ncRNAbg = rdflib.URIRef(f\"http://rdf.biogateway.eu/ncrna/9606/{transcript_id}#{data_source}\")\n",
    "        genebg = rdflib.URIRef(f\"http://rdf.biogateway.eu/gene/9606/{gene_id}#{data_source}\")\n",
    "        ncrna2phenbg = rdflib.URIRef(f\"http://rdf.biogateway.eu/ncrna2gene/bgw!{transcript_id}--omim!{gene_id}#{data_source}\")\n",
    "\n",
    "        if 'OMIM_ID' in row and len(row['OMIM_ID']) > 3:\n",
    "            omim_id = row['OMIM_ID']\n",
    "            disease_name = row['Disease']\n",
    "            omim_uri = rdflib.URIRef(f\"http://purl.bioontology.org/ontology/OMIM/{omim_id}\")\n",
    "            ncrna2phen.add((omim_uri, rdflib.RDF.type, rdflib.OWL.Class))\n",
    "            ncrna2phen.add((omim_uri, rdflib.RDFS.subClassOf, rdflib.URIRef(\"http://purl.obolibrary.org/obo/DOID_4\")))\n",
    "            ncrna2phen.add((omim_uri, rdflib.namespace.SKOS.prefLabel, rdflib.Literal(f\"Disease {disease_name}\")))\n",
    "            ncrna2phen.add((omim_uri, rdflib.URIRef(\"https://wx3id.org/biolink/vocab/category\"), rdflib.URIRef(\"https://wx3id.org/biolink/vocab/Disease\")))           \n",
    "            ncrna2phen.add((ncrna2phenbg, rdflib.namespace.SKOS.definition, rdflib.Literal(f\"Association between non-coding RNA {transcript_id} and disease omim:{omim_id} according to {data_source}\")))\n",
    "            ncrna2phen.add((ncrna2phenbg, rdflib.RDF.type, rdflib.OWL.Class))\n",
    "            ncrna2phen.add((ncrna2phenbg, rdflib.RDFS.subClassOf, rdflib.URIRef(\"http://www.w3.org/1999/02/22-rdf-syntax-ns#Statement\")))\n",
    "            ncrna2phen.add((ncrna2phenbg, rdflib.RDF.predicate, rdflib.URIRef(\"http://purl.obolibrary.org/obo/RO_0002331\")))\n",
    "            ncrna2phen.add((ncrna2phenbg, rdflib.namespace.SKOS.prefLabel, rdflib.Literal(f\"bgw!{transcript_id}--omim!{omim_id}\")))\n",
    "            ncrna2phen.add((ncrna2phenbg, rdflib.RDF.object, rdflib.URIRef(f\"http://purl.bioontology.org/ontology/OMIM/{omim_id}\")))\n",
    "            ncrna2phen.add((ncrna2phenbg, rdflib.RDF.subject, rdflib.URIRef(f\"http://rdf.biogateway.eu/ncrna/9606/{transcript_id}\")))\n",
    "            database_uri = database_ids.get(data_source, \"http://purl.obolibrary.org/obo/NCIT_C15426\")\n",
    "            ncrna2phen.add((ncrna2phenbg, rdflib.URIRef(\"http://schema.org/evidenceOrigin\"), rdflib.URIRef(database_uri)))\n",
    "            ncrna2phen.add((ncrna2phenbg, rdflib.URIRef(\"http://semanticscience.org/resource/SIO_000253\"), rdflib.URIRef(database_uri)))\n",
    "            ncrna2phen.add((ncrna2phenbg, rdflib.URIRef(\"http://semanticscience.org/resource/SIO_000253\"), rdflib.URIRef(database_uri)))\n",
    "\n",
    "output_name = f'ncrna2phen_{data_source.lower()}.rdf'\n",
    "ncrna2phen.serialize(destination=output_name, format='turtle')"
   ]
  }
 ],
 "metadata": {
  "kernelspec": {
   "display_name": "base",
   "language": "python",
   "name": "python3"
  },
  "language_info": {
   "codemirror_mode": {
    "name": "ipython",
    "version": 3
   },
   "file_extension": ".py",
   "mimetype": "text/x-python",
   "name": "python",
   "nbconvert_exporter": "python",
   "pygments_lexer": "ipython3",
   "version": "3.10.10"
  },
  "orig_nbformat": 4
 },
 "nbformat": 4,
 "nbformat_minor": 2
}
